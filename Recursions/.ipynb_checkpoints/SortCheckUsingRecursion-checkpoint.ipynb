{
 "cells": [
  {
   "cell_type": "code",
   "execution_count": 1,
   "metadata": {},
   "outputs": [],
   "source": [
    "numListOne = [1, 2, 4, 4, 5]\n",
    "\n",
    "numListTwo = [1, 2, 8, 4, 5]"
   ]
  },
  {
   "cell_type": "code",
   "execution_count": 2,
   "metadata": {},
   "outputs": [],
   "source": [
    "def checkIfSorted(numList) :\n",
    "    \n",
    "    # If length is one, return true. List with one element, no sorting required, already sorted :)\n",
    "    lenOfList = len(numList)\n",
    "    if lenOfList <= 1 :\n",
    "        return True\n",
    "    \n",
    "    # If the first index is lesser than the second index, continue checking\n",
    "    # Pass the list to same method, now the list starting with second element\n",
    "    if numList[0] <= numList[1] :\n",
    "        return checkIfSorted(numList[1 : ])\n",
    "    else :\n",
    "        # If for any element the check fails, return false\n",
    "        return False"
   ]
  },
  {
   "cell_type": "code",
   "execution_count": 3,
   "metadata": {},
   "outputs": [
    {
     "data": {
      "text/plain": [
       "True"
      ]
     },
     "execution_count": 3,
     "metadata": {},
     "output_type": "execute_result"
    }
   ],
   "source": [
    "checkIfSorted(numListOne)"
   ]
  },
  {
   "cell_type": "code",
   "execution_count": 4,
   "metadata": {},
   "outputs": [
    {
     "data": {
      "text/plain": [
       "False"
      ]
     },
     "execution_count": 4,
     "metadata": {},
     "output_type": "execute_result"
    }
   ],
   "source": [
    "checkIfSorted(numListTwo)"
   ]
  }
 ],
 "metadata": {
  "kernelspec": {
   "display_name": "Python 3",
   "language": "python",
   "name": "python3"
  },
  "language_info": {
   "codemirror_mode": {
    "name": "ipython",
    "version": 3
   },
   "file_extension": ".py",
   "mimetype": "text/x-python",
   "name": "python",
   "nbconvert_exporter": "python",
   "pygments_lexer": "ipython3",
   "version": "3.7.4"
  }
 },
 "nbformat": 4,
 "nbformat_minor": 2
}
