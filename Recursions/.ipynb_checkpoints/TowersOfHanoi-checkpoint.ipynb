{
 "cells": [
  {
   "cell_type": "markdown",
   "metadata": {},
   "source": [
    "Problem Statement\n",
    "-----------------------\n",
    "\n",
    "The Towers of Hanoi is a mathematical puzzle. It consists of three rods (or pegs or towers) and a number of disks of different sizes which can slide onto any rod. The puzzle starts with the disks on one rod in ascending order of size, the smallest at the top, thus making a conical shape. The objective of the puzzle is to move the entire stack to another rod, satisfying the following rules\n",
    "\n",
    "• Only one disk may be moved at a time.\n",
    "\n",
    "• Each move consists of taking the upper disk from one of the rods and sliding it onto\n",
    "  another rod, on top of the other disks that may already be present on that rod.\n",
    "\n",
    "• No disk may be placed on top of a smaller disk."
   ]
  },
  {
   "cell_type": "markdown",
   "metadata": {},
   "source": [
    "Algorithm\n",
    "----------\n",
    "\n",
    "• Move the top n – 1 disks from Source to Auxiliary tower.\n",
    "\n",
    "• Move the nth disk from Source to Destination tower.\n",
    "\n",
    "• Move the n – 1 disks from Auxiliary tower to Destination tower.\n",
    "\n",
    "• Transferring the top n – 1 disks from Source to Auxiliary tower can again be thought\n",
    "of as a fresh problem and can be solved in the same manner. Once we solve Towers of Hanoi with three disks, we can solve it with any number of disks with the above algorithm."
   ]
  },
  {
   "cell_type": "code",
   "execution_count": 1,
   "metadata": {},
   "outputs": [],
   "source": [
    "# this is method, just for illustration\n",
    "\n",
    "def moveTheDisks(n, fromTower, toTower, auxTower) :\n",
    "    \n",
    "    # This is base case i.e. if only one disk to be moved, move it to the destination toTower directly\n",
    "    if n == 1 :\n",
    "        print('Base case. Move the one remaing disk. Move from {} to {}'.format(fromTower, toTower))\n",
    "        print('\\n')\n",
    "        return\n",
    "    \n",
    "    print('Move the n-1 from the fromTower to Auxilar tower, in this case Move from {} to {}'.format(fromTower, auxTower))\n",
    "    print('\\n')\n",
    "    moveTheDisks(n - 1, fromTower, auxTower, toTower)\n",
    "    \n",
    "    print('Now move reaming from Auxilary to ToTower. Move from {} to {}'.format(auxTower, toTower))\n",
    "    print('\\n')\n",
    "    \n",
    "    moveTheDisks(n - 1, auxTower, toTower, fromTower)\n",
    "    \n",
    "    "
   ]
  },
  {
   "cell_type": "code",
   "execution_count": 2,
   "metadata": {},
   "outputs": [],
   "source": [
    "# this is method using actual stacks, representing the towers\n",
    "\n",
    "def moveTheDisksDemoUsingStacks(n, fromTower, toTower, auxTower) :\n",
    "    \n",
    "    # This is base case i.e. if only one disk to be moved, move it to the destination toTower directly\n",
    "    if n == 1 :\n",
    "        disk = fromTower[len(fromTower) - 1]\n",
    "        print('Base case. Move disk {}. Move from {} to {}'.format(disk, fromTower, toTower))\n",
    "        disk = fromTower.pop()\n",
    "        toTower.append(disk)\n",
    "        print('\\n')\n",
    "        return\n",
    "    \n",
    "    print('Move the {} disks from the fromTower to Auxilar tower, in this case Move from {} to {}'.format( n - 1, fromTower[-n : ], auxTower))\n",
    "    print('\\n')\n",
    "    moveTheDisksDemoUsingStacks(n - 1, fromTower, auxTower, toTower)\n",
    "    \n",
    "    print('Now move remaining one from fromTower to ToTower. Move from {} to {}'.format(auxTower, toTower))\n",
    "    print('\\n')\n",
    "    disk = fromTower[len(fromTower) - 1]\n",
    "    print('Move disk {}. Move from {} to {}'.format(disk, fromTower, toTower))\n",
    "    disk = fromTower.pop()\n",
    "    toTower.append(disk)\n",
    "    \n",
    "    print('Now move remaining one from fromTower to ToTower. Move from {} to {}'.format(auxTower, toTower))\n",
    "    print('\\n')\n",
    "    moveTheDisksDemoUsingStacks(n - 1, auxTower, toTower, fromTower)\n",
    "    \n",
    "    "
   ]
  },
  {
   "cell_type": "code",
   "execution_count": 3,
   "metadata": {},
   "outputs": [
    {
     "name": "stdout",
     "output_type": "stream",
     "text": [
      "fromStack [3, 2, 1]\n",
      "toStack []\n",
      "auzStack []\n"
     ]
    }
   ],
   "source": [
    "fromStack = [3, 2, 1]\n",
    "print('fromStack', fromStack)\n",
    "toStack = []\n",
    "print('toStack', toStack)\n",
    "auxStack = []\n",
    "print('auzStack', auxStack)"
   ]
  },
  {
   "cell_type": "code",
   "execution_count": 4,
   "metadata": {},
   "outputs": [
    {
     "name": "stdout",
     "output_type": "stream",
     "text": [
      "Move the 2 disks from the fromTower to Auxilar tower, in this case Move from [3, 2, 1] to []\n",
      "\n",
      "\n",
      "Move the 1 disks from the fromTower to Auxilar tower, in this case Move from [2, 1] to []\n",
      "\n",
      "\n",
      "Base case. Move disk 1. Move from [3, 2, 1] to []\n",
      "\n",
      "\n",
      "Now move remaining one from fromTower to ToTower. Move from [1] to []\n",
      "\n",
      "\n",
      "Move disk 2. Move from [3, 2] to []\n",
      "Now move remaining one from fromTower to ToTower. Move from [1] to [2]\n",
      "\n",
      "\n",
      "Base case. Move disk 1. Move from [1] to [2]\n",
      "\n",
      "\n",
      "Now move remaining one from fromTower to ToTower. Move from [2, 1] to []\n",
      "\n",
      "\n",
      "Move disk 3. Move from [3] to []\n",
      "Now move remaining one from fromTower to ToTower. Move from [2, 1] to [3]\n",
      "\n",
      "\n",
      "Move the 1 disks from the fromTower to Auxilar tower, in this case Move from [2, 1] to []\n",
      "\n",
      "\n",
      "Base case. Move disk 1. Move from [2, 1] to []\n",
      "\n",
      "\n",
      "Now move remaining one from fromTower to ToTower. Move from [1] to [3]\n",
      "\n",
      "\n",
      "Move disk 2. Move from [2] to [3]\n",
      "Now move remaining one from fromTower to ToTower. Move from [1] to [3, 2]\n",
      "\n",
      "\n",
      "Base case. Move disk 1. Move from [1] to [3, 2]\n",
      "\n",
      "\n"
     ]
    }
   ],
   "source": [
    "\n",
    "moveTheDisksDemoUsingStacks(3, fromStack, toStack, auxStack)"
   ]
  },
  {
   "cell_type": "code",
   "execution_count": 5,
   "metadata": {},
   "outputs": [
    {
     "data": {
      "text/plain": [
       "[]"
      ]
     },
     "execution_count": 5,
     "metadata": {},
     "output_type": "execute_result"
    }
   ],
   "source": [
    "fromStack"
   ]
  },
  {
   "cell_type": "code",
   "execution_count": 6,
   "metadata": {},
   "outputs": [
    {
     "data": {
      "text/plain": [
       "[]"
      ]
     },
     "execution_count": 6,
     "metadata": {},
     "output_type": "execute_result"
    }
   ],
   "source": [
    "auxStack"
   ]
  },
  {
   "cell_type": "code",
   "execution_count": 7,
   "metadata": {},
   "outputs": [
    {
     "data": {
      "text/plain": [
       "[3, 2, 1]"
      ]
     },
     "execution_count": 7,
     "metadata": {},
     "output_type": "execute_result"
    }
   ],
   "source": [
    "toStack"
   ]
  }
 ],
 "metadata": {
  "kernelspec": {
   "display_name": "Python 3",
   "language": "python",
   "name": "python3"
  },
  "language_info": {
   "codemirror_mode": {
    "name": "ipython",
    "version": 3
   },
   "file_extension": ".py",
   "mimetype": "text/x-python",
   "name": "python",
   "nbconvert_exporter": "python",
   "pygments_lexer": "ipython3",
   "version": "3.7.4"
  }
 },
 "nbformat": 4,
 "nbformat_minor": 2
}
